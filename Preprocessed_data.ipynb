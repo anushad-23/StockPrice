{
 "cells": [
  {
   "cell_type": "code",
   "execution_count": 1,
   "id": "892d0e96",
   "metadata": {},
   "outputs": [
    {
     "ename": "ModuleNotFoundError",
     "evalue": "No module named 'sklearn'",
     "output_type": "error",
     "traceback": [
      "\u001b[31m---------------------------------------------------------------------------\u001b[39m",
      "\u001b[31mModuleNotFoundError\u001b[39m                       Traceback (most recent call last)",
      "\u001b[36mCell\u001b[39m\u001b[36m \u001b[39m\u001b[32mIn[1]\u001b[39m\u001b[32m, line 2\u001b[39m\n\u001b[32m      1\u001b[39m \u001b[38;5;28;01mimport\u001b[39;00m\u001b[38;5;250m \u001b[39m\u001b[34;01mpandas\u001b[39;00m\u001b[38;5;250m \u001b[39m\u001b[38;5;28;01mas\u001b[39;00m\u001b[38;5;250m \u001b[39m\u001b[34;01mpd\u001b[39;00m\n\u001b[32m----> \u001b[39m\u001b[32m2\u001b[39m \u001b[38;5;28;01mfrom\u001b[39;00m\u001b[38;5;250m \u001b[39m\u001b[34;01msklearn\u001b[39;00m\u001b[34;01m.\u001b[39;00m\u001b[34;01mpreprocessing\u001b[39;00m\u001b[38;5;250m \u001b[39m\u001b[38;5;28;01mimport\u001b[39;00m MinMaxScaler\n\u001b[32m      4\u001b[39m \u001b[38;5;66;03m# File paths (update if needed)\u001b[39;00m\n\u001b[32m      5\u001b[39m amazon_path = \u001b[33m\"\u001b[39m\u001b[33mAmazon.csv\u001b[39m\u001b[33m\"\u001b[39m\n",
      "\u001b[31mModuleNotFoundError\u001b[39m: No module named 'sklearn'"
     ]
    }
   ],
   "source": [
    "import pandas as pd\n",
    "from sklearn.preprocessing import MinMaxScaler\n",
    "\n",
    "# File paths (update if needed)\n",
    "amazon_path = \"Amazon.csv\"\n",
    "google_path = \"GOOG.csv\"\n",
    "netflix_path = \"NFLX.csv\"\n",
    "\n",
    "# Read already cleaned & sorted CSV files\n",
    "amazon_df = pd.read_csv(amazon_path)\n",
    "google_df = pd.read_csv(google_path)\n",
    "netflix_df = pd.read_csv(netflix_path)\n",
    "\n",
    "# Function to preprocess stock data (only feature extraction + scaling)\n",
    "def preprocess_data(df, name):\n",
    "    print(f\"\\n--- Preprocessing {name} Dataset ---\")\n",
    "    \n",
    "    # Ensure 'Date' is datetime\n",
    "    df['Date'] = pd.to_datetime(df['Date'], errors='coerce')\n",
    "    \n",
    "    # Extract new time features\n",
    "    df['Year'] = df['Date'].dt.year\n",
    "    df['Month'] = df['Date'].dt.month\n",
    "    df['Day'] = df['Date'].dt.day\n",
    "    df['DayOfWeek'] = df['Date'].dt.dayofweek  # 0 = Monday, 6 = Sunday\n",
    "    \n",
    "    # Normalize numeric columns\n",
    "    scaler = MinMaxScaler()\n",
    "    numeric_cols = ['Open', 'High', 'Low', 'Close', 'Adj Close', 'Volume']\n",
    "    available_cols = [col for col in numeric_cols if col in df.columns]\n",
    "    df[available_cols] = scaler.fit_transform(df[available_cols])\n",
    "    \n",
    "    print(\"Preprocessing done!\")\n",
    "    print(df.head())  # show first few rows after preprocessing\n",
    "    \n",
    "    return df\n",
    "\n",
    "# Apply preprocessing\n",
    "amazon_preprocessed = preprocess_data(amazon_df, \"Amazon\")\n",
    "google_preprocessed = preprocess_data(google_df, \"Google\")\n",
    "netflix_preprocessed = preprocess_data(netflix_df, \"Netflix\")\n",
    "\n",
    "\n"
   ]
  }
 ],
 "metadata": {
  "kernelspec": {
   "display_name": "Python 3",
   "language": "python",
   "name": "python3"
  },
  "language_info": {
   "codemirror_mode": {
    "name": "ipython",
    "version": 3
   },
   "file_extension": ".py",
   "mimetype": "text/x-python",
   "name": "python",
   "nbconvert_exporter": "python",
   "pygments_lexer": "ipython3",
   "version": "3.13.5"
  }
 },
 "nbformat": 4,
 "nbformat_minor": 5
}
